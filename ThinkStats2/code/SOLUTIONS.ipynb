{
 "cells": [
  {
   "cell_type": "markdown",
   "metadata": {
    "button": false,
    "collapsed": true,
    "deletable": true,
    "new_sheet": false,
    "run_control": {
     "read_only": false
    }
   },
   "source": [
    "# Chapter 2 Exercise 4 (Cohen's D)"
   ]
  },
  {
   "cell_type": "code",
   "execution_count": 2,
   "metadata": {
    "button": false,
    "collapsed": false,
    "deletable": true,
    "new_sheet": false,
    "run_control": {
     "read_only": false
    }
   },
   "outputs": [
    {
     "name": "stdout",
     "output_type": "stream",
     "text": [
      "/Users/Seth/Documents/Data Science/Metis/dsp/ThinkStats2/code\n"
     ]
    }
   ],
   "source": [
    "import os\n",
    "print(os.getcwd())\n",
    "#os.chdir('ThinkStats2/code')"
   ]
  },
  {
   "cell_type": "code",
   "execution_count": 3,
   "metadata": {
    "button": false,
    "collapsed": false,
    "deletable": true,
    "new_sheet": false,
    "run_control": {
     "read_only": false
    }
   },
   "outputs": [],
   "source": [
    "import seaborn as sns\n",
    "import math\n",
    "import pandas\n",
    "import numpy as np\n",
    "import random\n",
    "import matplotlib.pyplot as plt\n",
    "import thinkstats2\n",
    "import probability\n",
    "import thinkplot\n",
    "import nsfg\n",
    "import chap01soln\n",
    "from scipy import stats\n",
    "%matplotlib inline"
   ]
  },
  {
   "cell_type": "markdown",
   "metadata": {
    "button": false,
    "deletable": true,
    "new_sheet": false,
    "run_control": {
     "read_only": false
    }
   },
   "source": [
    "Exercise 2.4 Using the variable totalwgt_lb, investigate whether first babies are lighter or heavier than others. Compute Cohen’s d to quantify the difference between the groups. How does it compare to the difference in pregnancy length?"
   ]
  },
  {
   "cell_type": "code",
   "execution_count": 88,
   "metadata": {
    "button": false,
    "collapsed": true,
    "deletable": true,
    "new_sheet": false,
    "run_control": {
     "read_only": false
    }
   },
   "outputs": [],
   "source": [
    "Sethpreg = nsfg.ReadFemPreg()"
   ]
  },
  {
   "cell_type": "code",
   "execution_count": 89,
   "metadata": {
    "button": false,
    "collapsed": true,
    "deletable": true,
    "new_sheet": false,
    "run_control": {
     "read_only": false
    }
   },
   "outputs": [],
   "source": [
    "def CohenEffectSize(group1, group2):\n",
    "    diff = group1.mean() - group2.mean()\n",
    "    var1 = group1.var()\n",
    "    var2 = group2.var()\n",
    "    n1, n2 = len(group1), len(group2)\n",
    "    pooled_var = (n1 * var1 + n2 * var2) / (n1 + n2)\n",
    "    d = diff / math.sqrt(pooled_var)\n",
    "    return d"
   ]
  },
  {
   "cell_type": "code",
   "execution_count": 90,
   "metadata": {
    "button": false,
    "collapsed": false,
    "deletable": true,
    "new_sheet": false,
    "run_control": {
     "read_only": false
    }
   },
   "outputs": [],
   "source": [
    "first_wgt = preg[preg['birthord']==1.0]['totalwgt_lb']\n",
    "other_wgt = preg[preg['birthord']!=1.0]['totalwgt_lb']\n",
    "first_wgt = first_wgt[first_wgt.notnull()]\n",
    "other_wgt = other_wgt[other_wgt.notnull()]"
   ]
  },
  {
   "cell_type": "code",
   "execution_count": 91,
   "metadata": {
    "button": false,
    "collapsed": true,
    "deletable": true,
    "new_sheet": false,
    "run_control": {
     "read_only": false
    }
   },
   "outputs": [],
   "source": [
    "first_len = preg[preg['birthord']==1.0]['prglngth']\n",
    "other_len = preg[preg['birthord']!=1.0]['prglngth']\n",
    "first_len  = first_len[first_len.notnull()]\n",
    "other_len = other_len[other_len.notnull()]"
   ]
  },
  {
   "cell_type": "code",
   "execution_count": 92,
   "metadata": {
    "button": false,
    "collapsed": false,
    "deletable": true,
    "new_sheet": false,
    "run_control": {
     "read_only": false
    }
   },
   "outputs": [
    {
     "name": "stdout",
     "output_type": "stream",
     "text": [
      "7.201094430437772\t7.325855614973262\n",
      "1.4205728777207374\t1.3941954762143138\n",
      "\n",
      "38.60095173351461\t25.17124183006536\n",
      "2.7919014146686947\t14.825479314114457\n"
     ]
    }
   ],
   "source": [
    "print(first_wgt.mean(),other_wgt.mean(),sep='\\t')\n",
    "print(first_wgt.std(),other_wgt.std(),sep='\\t')\n",
    "print()\n",
    "print(first_len.mean(),other_len.mean(),sep='\\t')\n",
    "print(first_len.std(),other_len.std(),sep='\\t')"
   ]
  },
  {
   "cell_type": "code",
   "execution_count": 93,
   "metadata": {
    "button": false,
    "collapsed": false,
    "deletable": true,
    "new_sheet": false,
    "run_control": {
     "read_only": false
    },
    "scrolled": true
   },
   "outputs": [
    {
     "name": "stdout",
     "output_type": "stream",
     "text": [
      "Effective weight difference (first minus others): -0.08867236333202932\n",
      "Effective length difference (first minus others): 1.0930083433621403\n"
     ]
    }
   ],
   "source": [
    "print(\"Effective weight difference (first minus others): %s\" % CohenEffectSize(first_wgt,other_wgt),\n",
    "     \"Effective length difference (first minus others): %s\" % CohenEffectSize(first_len,other_len),sep = '\\n')"
   ]
  },
  {
   "cell_type": "markdown",
   "metadata": {
    "button": false,
    "deletable": true,
    "new_sheet": false,
    "run_control": {
     "read_only": false
    }
   },
   "source": [
    "## Results\n",
    "\n",
    "Effective weight difference (first minus others): -0.08867236333202932\n",
    "Effective length difference (first minus others): 1.0930083433621403\n",
    " \n",
    "The first born babies were statistally lighter than the other babies, but only by .09 standard deviations or \n",
    "about a twentieth of a pound difference.\n",
    "\n",
    "The pregnacy duration differs tremendusly where first born babies tend to have longer pregnacies by 1.1 \n",
    "standard deviations or about 14 weeks. \n",
    "\n",
    "Comparing first and \"other\" born deviations independantly, there it can been seen that first born babies have a \n",
    "more predictable pregnacy duration while \"other\" born on average are shorter, but are generally more unpredicable. "
   ]
  },
  {
   "cell_type": "markdown",
   "metadata": {
    "button": false,
    "deletable": true,
    "new_sheet": false,
    "run_control": {
     "read_only": false
    }
   },
   "source": [
    "# Chapter 3 Exercise 1 (actual vs. biased)"
   ]
  },
  {
   "cell_type": "markdown",
   "metadata": {
    "button": false,
    "deletable": true,
    "new_sheet": false,
    "run_control": {
     "read_only": false
    }
   },
   "source": [
    "Something like the class size paradox appears if you survey children and ask how many children are in their family. Families with many children are more likely to appear in your sample, and families with no children have no chance to be in the sample.\n",
    "\n",
    "Use the ```NSFG``` respondent variable ```NUMKDHH``` to construct the actual distribution for the number of children under 18 in the household.\n",
    "\n",
    "Now compute the biased distribution we would see if we surveyed the chidren and asked them how many children under 18 (including themselves) are in their household.\n",
    "Plot the actual and biased distributions, and compute their means. As a starting place, you can use chap03ex.ipynb."
   ]
  },
  {
   "cell_type": "code",
   "execution_count": 3,
   "metadata": {
    "button": false,
    "collapsed": false,
    "deletable": true,
    "new_sheet": false,
    "run_control": {
     "read_only": false
    }
   },
   "outputs": [],
   "source": [
    "resp = chap01soln.ReadFemResp()\n",
    "numkdhh = resp['numkdhh']"
   ]
  },
  {
   "cell_type": "code",
   "execution_count": 4,
   "metadata": {
    "button": false,
    "collapsed": false,
    "deletable": true,
    "new_sheet": false,
    "run_control": {
     "read_only": false
    }
   },
   "outputs": [],
   "source": [
    "def pmf(series):\n",
    "    prob_series = series.value_counts().sort_index() / len(series)\n",
    "    d = {x : freq for x, freq in prob_series.iteritems()}\n",
    "    return d\n",
    "def biaspmf(series):\n",
    "    d = {}\n",
    "    prob_series = (series.value_counts().sort_index() / len(series))\n",
    "    prob_series = prob_series.mul(prob_series.index)\n",
    "    d = {x : freq for x, freq in prob_series.iteritems()}\n",
    "    return d"
   ]
  },
  {
   "cell_type": "code",
   "execution_count": 5,
   "metadata": {
    "button": false,
    "collapsed": false,
    "deletable": true,
    "new_sheet": false,
    "run_control": {
     "read_only": false
    }
   },
   "outputs": [],
   "source": [
    "unbias = pmf(numkdhh)\n",
    "bias = biaspmf(numkdhh)\n",
    "unique_values = len(bias)\n",
    "bias_values = list(bias.values())\n",
    "bias_values.append(0)\n",
    "shape = list(range(0,7))"
   ]
  },
  {
   "cell_type": "code",
   "execution_count": 107,
   "metadata": {
    "button": false,
    "collapsed": false,
    "deletable": true,
    "new_sheet": false,
    "run_control": {
     "read_only": false
    }
   },
   "outputs": [
    {
     "name": "stdout",
     "output_type": "stream",
     "text": [
      "1.02420515504 2.46186052597\n"
     ]
    },
    {
     "data": {
      "image/png": "[encoded data removed]",
      "text/plain": [
       "<matplotlib.figure.Figure at 0x1240cb1d0>"
      ]
     },
     "metadata": {},
     "output_type": "display_data"
    }
   ],
   "source": [
    "sns.set_style(\"dark\")\n",
    "fig = plt.figure(figsize=[10,5])\n",
    "ax = fig.add_subplot(111)\n",
    "ax.hist(numkdhh, bins=unique_values, range=[0,unique_values], normed=True, histtype='step', align='left',label='Unbias')\n",
    "ax.step(shape,bias_values,where='mid',label='Bias')\n",
    "#bias_mean = sum([k*v for k,v in bias.items()])\n",
    "unbias_mean = sum([k*v for k,v in unbias.items()])\n",
    "print(unbias_mean,bias_mean)\n",
    "plt.legend()\n",
    "plt.savefig('../../img/bias_vs_unbias.png')"
   ]
  },
  {
   "cell_type": "markdown",
   "metadata": {
    "button": false,
    "deletable": true,
    "new_sheet": false,
    "run_control": {
     "read_only": false
    }
   },
   "source": [
    "By means of ThinkStats2 built in functions"
   ]
  },
  {
   "cell_type": "code",
   "execution_count": 115,
   "metadata": {
    "button": false,
    "collapsed": false,
    "deletable": true,
    "new_sheet": false,
    "run_control": {
     "read_only": false
    }
   },
   "outputs": [],
   "source": [
    "Santa Fepmf = thinkstats2.Pmf(numkdhh, label='Unbiased')\n",
    "pmf_biased = probability.BiasPmf(pmf, label='Biased')"
   ]
  },
  {
   "cell_type": "code",
   "execution_count": 116,
   "metadata": {
    "button": false,
    "collapsed": false,
    "deletable": true,
    "new_sheet": false,
    "run_control": {
     "read_only": false
    }
   },
   "outputs": [
    {
     "name": "stdout",
     "output_type": "stream",
     "text": [
      "Writing ../../img/bias_vs_unbias_thinkplot.pdf\n",
      "Writing ../../img/bias_vs_unbias_thinkplot.eps\n"
     ]
    },
    {
     "data": {
      "text/plain": [
       "<matplotlib.figure.Figure at 0x12441db00>"
      ]
     },
     "metadata": {},
     "output_type": "display_data"
    }
   ],
   "source": [
    "thinkplot.preplot(2)\n",
    "thinkplot.Pmfs([pmf_biased,pmf])\n",
    "thinkplot.save('../../img/bias_vs_unbias_thinkplot')\n",
    "#thinkplot.show()"
   ]
  },
  {
   "cell_type": "code",
   "execution_count": 37,
   "metadata": {
    "button": false,
    "collapsed": false,
    "deletable": true,
    "new_sheet": false,
    "run_control": {
     "read_only": false
    }
   },
   "outputs": [
    {
     "name": "stdout",
     "output_type": "stream",
     "text": [
      "The mean of the Unbiased PMF is: 1.02420515504\n",
      "The mean of the Biased PMF is: 2.40367910066\n"
     ]
    }
   ],
   "source": [
    "print (\"The mean of the Unbiased PMF is: %s\" % pmf.Mean(),\"The mean of the Biased PMF is: %s\" % pmf_biased.Mean(),sep='\\n')"
   ]
  },
  {
   "cell_type": "markdown",
   "metadata": {
    "button": false,
    "deletable": true,
    "new_sheet": false,
    "run_control": {
     "read_only": false
    }
   },
   "source": [
    "# Chapter 4 Exercise 2 (random distribution)"
   ]
  },
  {
   "cell_type": "markdown",
   "metadata": {
    "button": false,
    "deletable": true,
    "new_sheet": false,
    "run_control": {
     "read_only": false
    }
   },
   "source": [
    "Exercise 4.2 The numbers generated by random.random are supposed to be uniform between 0 and 1; that is, every value in the range should have the same probability.\n",
    "\n",
    "Generate 1000 numbers from random.random and plot their PMF and CDF. Is the distribution uniform?"
   ]
  },
  {
   "cell_type": "code",
   "execution_count": 51,
   "metadata": {
    "button": false,
    "collapsed": false,
    "deletable": true,
    "new_sheet": false,
    "run_control": {
     "read_only": false
    }
   },
   "outputs": [],
   "source": [
    "Santa Ferand = [random.random() for i in range(1000)]"
   ]
  },
  {
   "cell_type": "code",
   "execution_count": 106,
   "metadata": {
    "button": false,
    "collapsed": false,
    "deletable": true,
    "new_sheet": false,
    "run_control": {
     "read_only": false
    }
   },
   "outputs": [
    {
     "name": "stderr",
     "output_type": "stream",
     "text": [
      "/Users/Seth/Applications/anaconda/lib/python3.5/site-packages/matplotlib/axes/_axes.py:519: UserWarning: No labelled objects found. Use label='...' kwarg on individual plots.\n",
      "  warnings.warn(\"No labelled objects found. \"\n"
     ]
    },
    {
     "name": "stdout",
     "output_type": "stream",
     "text": [
      "Writing ../../img/pmf_random_distribution.pdf\n",
      "Writing ../../img/pmf_random_distribution.eps\n",
      "Writing ../../img/cdf_random_distribution.pdf\n",
      "Writing ../../img/cdf_random_distribution.eps\n"
     ]
    },
    {
     "data": {
      "text/plain": [
       "<matplotlib.figure.Figure at 0x1240418d0>"
      ]
     },
     "metadata": {},
     "output_type": "display_data"
    }
   ],
   "source": [
    "pmf = thinkstats2.Pmf(rand)\n",
    "thinkplot.Pmf(pmf)\n",
    "thinkplot.save('../../img/pmf_random_distribution')\n",
    "\n",
    "\n",
    "cdf = thinkstats2.Cdf(rand)\n",
    "thinkplot.Cdf(cdf)\n",
    "thinkplot.save('../../img/cdf_random_distribution')"
   ]
  },
  {
   "cell_type": "markdown",
   "metadata": {
    "button": false,
    "deletable": true,
    "new_sheet": false,
    "run_control": {
     "read_only": false
    }
   },
   "source": [
    "## Think Stats Chapter 5 Exercise 1"
   ]
  },
  {
   "cell_type": "markdown",
   "metadata": {
    "button": false,
    "deletable": true,
    "new_sheet": false,
    "run_control": {
     "read_only": false
    }
   },
   "source": [
    "For the following exercises, you can start with chap05ex.ipynb. My solu- tion is in chap05soln.ipynb.\n",
    "Exercise 5.1 In the BRFSS (see Section 5.4), the distribution of heights is roughly normal with parameters μ = 178 cm and σ = 7.7 cm for men, and μ = 163 cm and σ = 7.3 cm for women.\n",
    "In order to join Blue Man Group, you have to be male between 5’10” and 6’1” (see http://bluemancasting.com). What percentage of the U.S. male population is in this range? Hint: use scipy.stats.norm.cdf."
   ]
  },
  {
   "cell_type": "code",
   "execution_count": 26,
   "metadata": {
    "button": false,
    "collapsed": false,
    "deletable": true,
    "new_sheet": false,
    "run_control": {
     "read_only": false
    }
   },
   "outputs": [],
   "source": [
    "mew = 178\n",
    "sigma = 7.7\n",
    "x1 = (5+10/12)*30.48\n",
    "x2 = (6+1/12)*30.48\n",
    "dist = stats.norm(loc = mew,scale = sigma)"
   ]
  },
  {
   "cell_type": "code",
   "execution_count": 44,
   "metadata": {
    "button": false,
    "collapsed": false,
    "deletable": true,
    "new_sheet": false,
    "run_control": {
     "read_only": false
    },
    "scrolled": true
   },
   "outputs": [
    {
     "name": "stdout",
     "output_type": "stream",
     "text": [
      "34.2746837631 percent of the male population is in the range to be in the blue man group.\n"
     ]
    }
   ],
   "source": [
    "print(\"%s percent of the male population is in the range to be in the blue man group.\" % ((dist.cdf(x2)-dist.cdf(x1))*100))"
   ]
  },
  {
   "cell_type": "markdown",
   "metadata": {
    "button": false,
    "deletable": true,
    "new_sheet": false,
    "run_control": {
     "read_only": false
    }
   },
   "source": [
    "# Bayesian (Elvis Presley twin)\n",
    "\n",
    "Bayes' Theorem is an important tool in understanding what we really know, given evidence of other information we have, in a quantitative way. It helps incorporate conditional probabilities into our conclusions.\n",
    "\n",
    "Elvis Presley had a twin brother who died at birth. What is the probability that Elvis was an identical twin? Assume we observe the following probabilities in the population: fraternal twin is 1/125 and identical twin is 1/300.\n",
    "\n"
   ]
  },
  {
   "cell_type": "markdown",
   "metadata": {
    "button": false,
    "deletable": true,
    "new_sheet": false,
    "run_control": {
     "read_only": false
    }
   },
   "source": [
    "# $$ P(A \\mid B) = \\frac{P(B \\mid A) \\, P(A)}{P(B \\mid A) \\, P(A) + P(B \\mid C) \\, P(C)} $$\n",
    "\n",
    "# $$P(I \\mid T) = \\frac{P(T \\mid I) \\, P(I)}{P(T \\mid I) \\, P(I) + P(T \\mid F) \\, P(F)} $$\n",
    "\n",
    "\n",
    "$P(T)$ and $P(I)$ and $P(F)$ are the probabilities of observing TWIN, IDENTICAL, and FRATERNAL without regard to each other.\n",
    "\n",
    "$P(T | I)$, a conditional probability, is the probability of observing event TWIN given that IDENTICAL is true.\n",
    "\n",
    "$P(I | T)$ is the probability of observing event IDENTICAL given that TWIN is true.\n",
    "\n",
    "## Since,\n",
    "\n",
    "$P(T) = P(I) + P(F)$ assuming FRATERNAL and IDENTICAL twins are mutually exclusive and are the only twin types\n",
    "\n",
    "$P(T \\mid I) = P(T \\mid F) = 1$\n",
    "\n",
    "$P(F \\mid T) = 1 - P(I \\mid T)$\n"
   ]
  },
  {
   "cell_type": "code",
   "execution_count": 133,
   "metadata": {
    "button": false,
    "collapsed": false,
    "deletable": true,
    "new_sheet": false,
    "run_control": {
     "read_only": false
    },
    "scrolled": true
   },
   "outputs": [],
   "source": [
    "prob_ftwin = 1/125\n",
    "prob_itwin = 1/300\n",
    "prob_twin = prob_ftwin + prob_itwin"
   ]
  },
  {
   "cell_type": "markdown",
   "metadata": {},
   "source": [
    "## Thus,\n",
    "\n",
    "### $P(I \\mid T) = \\frac{ \\, P(I)}{ \\, P(I) +  \\, P(F)} $\n",
    "\n",
    "### $or$\n",
    "\n",
    "### $P(I \\mid T) = \\frac{P(I)}  {P(T)}$\n",
    "\n",
    "Probability of Evis' twin is identical is $29.4\\%$"
   ]
  },
  {
   "cell_type": "markdown",
   "metadata": {},
   "source": [
    "## Probability by means of simulation"
   ]
  },
  {
   "cell_type": "code",
   "execution_count": 217,
   "metadata": {
    "collapsed": false
   },
   "outputs": [
    {
     "data": {
      "text/plain": [
       "0.29414424398244604"
      ]
     },
     "execution_count": 217,
     "metadata": {},
     "output_type": "execute_result"
    }
   ],
   "source": [
    "Santa Fensim = 10000000\n",
    "is_nottwin = 1-(prob_ftwin+prob_itwin)\n",
    "twin_array = stats.binom.random_state.choice(['n','f','i'],nsim, p=[is_nottwin, prob_ftwin, prob_itwin])\n",
    "twin_list = twin_array.tolist()\n",
    "twin_list.count('i')/(twin_list.count('i')+twin_list.count('f'))"
   ]
  },
  {
   "cell_type": "markdown",
   "metadata": {
    "button": false,
    "deletable": true,
    "new_sheet": false,
    "run_control": {
     "read_only": false
    }
   },
   "source": [
    "# Bayesian & Frequentist Comparison\n",
    "\n",
    "How do frequentist and Bayesian statistics compare?"
   ]
  },
  {
   "cell_type": "markdown",
   "metadata": {},
   "source": [
    "Bayesian inference has a \"fixed\" data set where the model can be optimized by adding more samples. Thus, Bayesian inference requries prior knowledge or a prior hypothesis. Frequentists fixes parameters and relies on how close the samples compare to eachother, or frequency, to draw an inference."
   ]
  },
  {
   "cell_type": "markdown",
   "metadata": {
    "button": false,
    "deletable": true,
    "new_sheet": false,
    "run_control": {
     "read_only": false
    }
   },
   "source": [
    "# Optional Exercises\n",
    "\n",
    "The following exercises are optional, but we highly encourage you to complete them if you have the time.\n",
    "\n",
    "# Chapter 7 Exercise 1 (correlation of weight vs. age)\n",
    "\n",
    "In this exercise, you will compute the effect size of correlation. Correlation measures the relationship of two variables, and data science is about exploring relationships in data.\n"
   ]
  },
  {
   "cell_type": "markdown",
   "metadata": {},
   "source": [
    "Using data from the NSFG, make a scatter plot of birth weight versus mother’s age. \n",
    "\n",
    "Plot percentiles of birth weight versus mother’s age. Compute Pearson’s and Spearman’s correlations. How would you characterize the relationship between these variables?"
   ]
  },
  {
   "cell_type": "code",
   "execution_count": 4,
   "metadata": {
    "collapsed": false
   },
   "outputs": [],
   "source": [
    "bwma = nsfg.ReadFemPreg()\n",
    "bwma = bwma[['agepreg','totalwgt_lb']]\n",
    "bwma.dropna(axis=0,how='any',inplace=True)\n",
    "agepreg_series, birth_wgt_series = bwma['agepreg'], bwma['totalwgt_lb']\n",
    "age_per = agepreg_series.apply(lambda x : stats.percentileofscore(agepreg_series,x))\n",
    "wgt_per = birth_wgt_series.apply(lambda x : stats.percentileofscore(birth_wgt_series,x))"
   ]
  },
  {
   "cell_type": "code",
   "execution_count": 5,
   "metadata": {
    "collapsed": false
   },
   "outputs": [],
   "source": [
    "agepreg = pandas.concat([agepreg_series,age_per], axis = 1)\n",
    "birth_wgt = pandas.concat([birth_wgt_series,wgt_per], axis = 1)"
   ]
  },
  {
   "cell_type": "code",
   "execution_count": 6,
   "metadata": {
    "collapsed": false
   },
   "outputs": [],
   "source": [
    "def cdf(sample, x):\n",
    "    count = 0.0\n",
    "    for value in sample:\n",
    "        if value <= x:\n",
    "            count += 1\n",
    "    prob = count / len(sample)\n",
    "    return prob"
   ]
  },
  {
   "cell_type": "code",
   "execution_count": 7,
   "metadata": {
    "collapsed": false,
    "scrolled": false
   },
   "outputs": [
    {
     "ename": "AttributeError",
     "evalue": "'float' object has no attribute 'Percentile'",
     "output_type": "error",
     "traceback": [
      "\u001b[0;31m---------------------------------------------------------------------------\u001b[0m",
      "\u001b[0;31mAttributeError\u001b[0m                            Traceback (most recent call last)",
      "\u001b[0;32m<ipython-input-7-4e3fe76cc1ed>\u001b[0m in \u001b[0;36m<module>\u001b[0;34m()\u001b[0m\n\u001b[1;32m     11\u001b[0m \u001b[0max\u001b[0m\u001b[0;34m.\u001b[0m\u001b[0mset_title\u001b[0m\u001b[0;34m(\u001b[0m\u001b[0;34m'Percentiles'\u001b[0m\u001b[0;34m,\u001b[0m\u001b[0mfontsize\u001b[0m\u001b[0;34m=\u001b[0m \u001b[0;34m'xx-large'\u001b[0m\u001b[0;34m)\u001b[0m\u001b[0;34m\u001b[0m\u001b[0m\n\u001b[1;32m     12\u001b[0m \u001b[0;32mfor\u001b[0m \u001b[0mpercent\u001b[0m \u001b[0;32min\u001b[0m \u001b[0;34m[\u001b[0m\u001b[0;36m75\u001b[0m\u001b[0;34m,\u001b[0m \u001b[0;36m50\u001b[0m\u001b[0;34m,\u001b[0m \u001b[0;36m25\u001b[0m\u001b[0;34m]\u001b[0m\u001b[0;34m:\u001b[0m\u001b[0;34m\u001b[0m\u001b[0m\n\u001b[0;32m---> 13\u001b[0;31m     \u001b[0mages\u001b[0m \u001b[0;34m=\u001b[0m \u001b[0;34m[\u001b[0m\u001b[0mcdf\u001b[0m\u001b[0;34m.\u001b[0m\u001b[0mPercentile\u001b[0m\u001b[0;34m(\u001b[0m\u001b[0mpercent\u001b[0m\u001b[0;34m)\u001b[0m \u001b[0;32mfor\u001b[0m \u001b[0mcdf\u001b[0m \u001b[0;32min\u001b[0m \u001b[0mcdfs\u001b[0m\u001b[0;34m]\u001b[0m\u001b[0;34m\u001b[0m\u001b[0m\n\u001b[0m\u001b[1;32m     14\u001b[0m     \u001b[0mlabel\u001b[0m \u001b[0;34m=\u001b[0m \u001b[0;34m'%dth'\u001b[0m \u001b[0;34m%\u001b[0m \u001b[0mpercent\u001b[0m\u001b[0;34m\u001b[0m\u001b[0m\n\u001b[1;32m     15\u001b[0m     \u001b[0max\u001b[0m\u001b[0;34m.\u001b[0m\u001b[0mplot\u001b[0m\u001b[0;34m(\u001b[0m\u001b[0mweights\u001b[0m\u001b[0;34m,\u001b[0m \u001b[0mages\u001b[0m\u001b[0;34m,\u001b[0m \u001b[0mlabel\u001b[0m\u001b[0;34m=\u001b[0m\u001b[0mlabel\u001b[0m\u001b[0;34m)\u001b[0m\u001b[0;34m\u001b[0m\u001b[0m\n",
      "\u001b[0;32m<ipython-input-7-4e3fe76cc1ed>\u001b[0m in \u001b[0;36m<listcomp>\u001b[0;34m(.0)\u001b[0m\n\u001b[1;32m     11\u001b[0m \u001b[0max\u001b[0m\u001b[0;34m.\u001b[0m\u001b[0mset_title\u001b[0m\u001b[0;34m(\u001b[0m\u001b[0;34m'Percentiles'\u001b[0m\u001b[0;34m,\u001b[0m\u001b[0mfontsize\u001b[0m\u001b[0;34m=\u001b[0m \u001b[0;34m'xx-large'\u001b[0m\u001b[0;34m)\u001b[0m\u001b[0;34m\u001b[0m\u001b[0m\n\u001b[1;32m     12\u001b[0m \u001b[0;32mfor\u001b[0m \u001b[0mpercent\u001b[0m \u001b[0;32min\u001b[0m \u001b[0;34m[\u001b[0m\u001b[0;36m75\u001b[0m\u001b[0;34m,\u001b[0m \u001b[0;36m50\u001b[0m\u001b[0;34m,\u001b[0m \u001b[0;36m25\u001b[0m\u001b[0;34m]\u001b[0m\u001b[0;34m:\u001b[0m\u001b[0;34m\u001b[0m\u001b[0m\n\u001b[0;32m---> 13\u001b[0;31m     \u001b[0mages\u001b[0m \u001b[0;34m=\u001b[0m \u001b[0;34m[\u001b[0m\u001b[0mcdf\u001b[0m\u001b[0;34m.\u001b[0m\u001b[0mPercentile\u001b[0m\u001b[0;34m(\u001b[0m\u001b[0mpercent\u001b[0m\u001b[0;34m)\u001b[0m \u001b[0;32mfor\u001b[0m \u001b[0mcdf\u001b[0m \u001b[0;32min\u001b[0m \u001b[0mcdfs\u001b[0m\u001b[0;34m]\u001b[0m\u001b[0;34m\u001b[0m\u001b[0m\n\u001b[0m\u001b[1;32m     14\u001b[0m     \u001b[0mlabel\u001b[0m \u001b[0;34m=\u001b[0m \u001b[0;34m'%dth'\u001b[0m \u001b[0;34m%\u001b[0m \u001b[0mpercent\u001b[0m\u001b[0;34m\u001b[0m\u001b[0m\n\u001b[1;32m     15\u001b[0m     \u001b[0max\u001b[0m\u001b[0;34m.\u001b[0m\u001b[0mplot\u001b[0m\u001b[0;34m(\u001b[0m\u001b[0mweights\u001b[0m\u001b[0;34m,\u001b[0m \u001b[0mages\u001b[0m\u001b[0;34m,\u001b[0m \u001b[0mlabel\u001b[0m\u001b[0;34m=\u001b[0m\u001b[0mlabel\u001b[0m\u001b[0;34m)\u001b[0m\u001b[0;34m\u001b[0m\u001b[0m\n",
      "\u001b[0;31mAttributeError\u001b[0m: 'float' object has no attribute 'Percentile'"
     ]
    },
    {
     "data": {
      "image/png": "[encoded data removed]",
      "text/plain": [
       "<matplotlib.figure.Figure at 0x116f7e5c0>"
      ]
     },
     "metadata": {},
     "output_type": "display_data"
    }
   ],
   "source": [
    "bwma = bwma.dropna(subset=['agepreg','totalwgt_lb'])\n",
    "bins = np.arange(0, 17, .7)\n",
    "indices = np.digitize(bwma.totalwgt_lb, bins)\n",
    "groups = bwma.groupby(indices)\n",
    "cdfs = [cdf(group.agepreg,i) for i, group in groups]\n",
    "weights = [group.totalwgt_lb.mean() for i, group in groups]\n",
    "fig = plt.figure(figsize=[20,10])\n",
    "ax = fig.add_subplot(111)\n",
    "ax.set_xlabel(\"Birth Weight\", fontsize= 'xx-large')\n",
    "ax.set_ylabel(\"Age of Pregnacy\",fontsize= 'xx-large')\n",
    "ax.set_title('Percentiles',fontsize= 'xx-large')\n",
    "for percent in [75, 50, 25]:\n",
    "    ages = [cdf.Percentile(percent) for cdf in cdfs]\n",
    "    label = '%dth' % percent\n",
    "    ax.plot(weights, ages, label=label)\n",
    "plt.show()"
   ]
  },
  {
   "cell_type": "code",
   "execution_count": 75,
   "metadata": {
    "collapsed": false
   },
   "outputs": [
    {
     "name": "stdout",
     "output_type": "stream",
     "text": [
      "[5.6875, 6.5, 7.375, 8.125, 8.875]\n"
     ]
    }
   ],
   "source": [
    "wgt_per = [stats.scoreatpercentile(birth_wgt_series,10),\n",
    "    stats.scoreatpercentile(birth_wgt_series,25),\n",
    "    stats.scoreatpercentile(birth_wgt_series,50),\n",
    "    stats.scoreatpercentile(birth_wgt_series,),\n",
    "    stats.scoreatpercentile(birth_wgt_series,95)]\n",
    "print(wgt_per)"
   ]
  },
  {
   "cell_type": "code",
   "execution_count": 21,
   "metadata": {
    "collapsed": true
   },
   "outputs": [],
   "source": [
    "age_per = [stats.scoreatpercentile(agepreg_series,10),\n",
    "    stats.scoreatpercentile(agepreg_series,25),\n",
    "    stats.scoreatpercentile(agepreg_series,50),\n",
    "    stats.scoreatpercentile(agepreg_series,75),\n",
    "    stats.scoreatpercentile(agepreg_series,90)]"
   ]
  },
  {
   "cell_type": "code",
   "execution_count": 22,
   "metadata": {
    "collapsed": false
   },
   "outputs": [
    {
     "data": {
      "text/plain": [
       "0.8015047576897544"
      ]
     },
     "execution_count": 22,
     "metadata": {},
     "output_type": "execute_result"
    }
   ],
   "source": [
    "def cdf(sample, x):\n",
    "    count = 0.0\n",
    "    for value in sample:\n",
    "        if value <= x:\n",
    "            count += 1\n",
    "    prob = count / len(sample)\n",
    "    return prob\n",
    "cdf(agepreg_series,30)"
   ]
  },
  {
   "cell_type": "code",
   "execution_count": 73,
   "metadata": {
    "collapsed": false
   },
   "outputs": [
    {
     "data": {
      "text/plain": [
       "15.4375"
      ]
     },
     "execution_count": 73,
     "metadata": {},
     "output_type": "execute_result"
    }
   ],
   "source": [
    "birth_wgt_series.max()"
   ]
  },
  {
   "cell_type": "code",
   "execution_count": 78,
   "metadata": {
    "collapsed": false
   },
   "outputs": [
    {
     "name": "stdout",
     "output_type": "stream",
     "text": [
      "Spearman correlation: 0.0688339703541\n",
      "Pearson correlation: 0.0946100410966\n"
     ]
    },
    {
     "data": {
      "image/png": "[encoded data removed]",
      "text/plain": [
       "<matplotlib.figure.Figure at 0x128b3cda0>"
      ]
     },
     "metadata": {},
     "output_type": "display_data"
    }
   ],
   "source": [
    "pearson = birth_wgt_series.corr(other = agepreg_series, method='pearson')\n",
    "spearman = birth_wgt_series.corr(other = agepreg_series, method='spearman')\n",
    "print('Spearman correlation: %s\\nPearson correlation: %s' % (pearson,spearman))\n",
    "fig = plt.figure(figsize=(20,10))\n",
    "ax = fig.add_subplot(111)\n",
    "ax.set_xlim(0,16)\n",
    "ax.set_ylim(10,45)\n",
    "ax.set_xlabel('Birth weigtht (lb)')\n",
    "ax.set_ylabel('Age of Pregnancy')\n",
    "ax.scatter(birth_wgt_series,agepreg_series,s=1)\n",
    "\"\"\"\n",
    "for i in wgt_per:\n",
    "    plt.axvline(i,ymin=0,ymax=1,label = ['10','25','50','75','90'])\n",
    "for j in age_per:\n",
    "    plt.axhline(j,xmin=0,xmax=1,label = ['10','25','50','75','90'])\n",
    "\n",
    "\"\"\"\n",
    "plt.show()\n"
   ]
  },
  {
   "cell_type": "markdown",
   "metadata": {
    "button": false,
    "deletable": true,
    "new_sheet": false,
    "run_control": {
     "read_only": false
    }
   },
   "source": [
    "# Chapter 8 Exercise 2 (sampling distribution)\n",
    "\n",
    "In the theoretical world, all data related to an experiment or a scientific problem would be available. In the real world, some subset of that data is available. This exercise asks you to take samples from an exponential distribution and examine how the standard error and confidence intervals vary with the sample size."
   ]
  },
  {
   "cell_type": "code",
   "execution_count": null,
   "metadata": {
    "collapsed": true
   },
   "outputs": [],
   "source": []
  },
  {
   "cell_type": "markdown",
   "metadata": {
    "button": false,
    "deletable": true,
    "new_sheet": false,
    "run_control": {
     "read_only": false
    }
   },
   "source": [
    "# Chapter 6 Exercise 1 (skewness of household income)"
   ]
  },
  {
   "cell_type": "markdown",
   "metadata": {
    "button": false,
    "deletable": true,
    "new_sheet": false,
    "run_control": {
     "read_only": false
    }
   },
   "source": [
    "# Chapter 8 Exercise 3 (scoring)"
   ]
  },
  {
   "cell_type": "markdown",
   "metadata": {
    "button": false,
    "deletable": true,
    "new_sheet": false,
    "run_control": {
     "read_only": false
    }
   },
   "source": [
    "# Chapter 9 Exercise 2 (resampling)"
   ]
  },
  {
   "cell_type": "code",
   "execution_count": null,
   "metadata": {
    "button": false,
    "collapsed": true,
    "deletable": true,
    "new_sheet": false,
    "run_control": {
     "read_only": false
    }
   },
   "outputs": [],
   "source": []
  }
 ],
 "metadata": {
  "celltoolbar": "Raw Cell Format",
  "kernelspec": {
   "display_name": "Python 3",
   "language": "python",
   "name": "python3"
  },
  "language_info": {
   "codemirror_mode": {
    "name": "ipython",
    "version": 3
   },
   "file_extension": ".py",
   "mimetype": "text/x-python",
   "name": "python",
   "nbconvert_exporter": "python",
   "pygments_lexer": "ipython3",
   "version": "3.5.1"
  }
 },
 "nbformat": 4,
 "nbformat_minor": 0
}
