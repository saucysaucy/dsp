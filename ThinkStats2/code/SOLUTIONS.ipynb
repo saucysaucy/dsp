{
 "cells": [
  {
   "cell_type": "markdown",
   "metadata": {
    "button": false,
    "collapsed": true,
    "deletable": true,
    "new_sheet": false,
    "run_control": {
     "read_only": false
    }
   },
   "source": [
    "# Chapter 2 Exercise 4 (Cohen's D)"
   ]
  },
  {
   "cell_type": "code",
   "execution_count": 1,
   "metadata": {
    "button": false,
    "collapsed": false,
    "deletable": true,
    "new_sheet": false,
    "run_control": {
     "read_only": false
    }
   },
   "outputs": [
    {
     "name": "stdout",
     "output_type": "stream",
     "text": [
      "/Users/Seth/Documents/Data Science/Metis/dsp/ThinkStats2/code\n"
     ]
    }
   ],
   "source": [
    "import os\n",
    "print(os.getcwd())\n",
    "#os.chdir('ThinkStats2/code')"
   ]
  },
  {
   "cell_type": "code",
   "execution_count": 2,
   "metadata": {
    "button": false,
    "collapsed": false,
    "deletable": true,
    "new_sheet": false,
    "run_control": {
     "read_only": false
    }
   },
   "outputs": [],
   "source": [
    "import pandas\n",
    "import numpy as np\n",
    "import random\n",
    "import matplotlib.pyplot as plt\n",
    "import thinkstats2\n",
    "import thinkplot\n",
    "import nsfg\n",
    "import probability\n",
    "import chap01soln\n",
    "from scipy import stats\n",
    "%matplotlib inline"
   ]
  },
  {
   "cell_type": "markdown",
   "metadata": {
    "button": false,
    "deletable": true,
    "new_sheet": false,
    "run_control": {
     "read_only": false
    }
   },
   "source": [
    "Exercise 2.4 Using the variable totalwgt_lb, investigate whether first babies are lighter or heavier than others. Compute Cohen’s d to quantify the difference between the groups. How does it compare to the difference in pregnancy length?"
   ]
  },
  {
   "cell_type": "code",
   "execution_count": 3,
   "metadata": {
    "button": false,
    "collapsed": true,
    "deletable": true,
    "new_sheet": false,
    "run_control": {
     "read_only": false
    }
   },
   "outputs": [],
   "source": [
    "preg = nsfg.ReadFemPreg()"
   ]
  },
  {
   "cell_type": "code",
   "execution_count": 4,
   "metadata": {
    "button": false,
    "collapsed": true,
    "deletable": true,
    "new_sheet": false,
    "run_control": {
     "read_only": false
    }
   },
   "outputs": [],
   "source": [
    "def CohenEffectSize(group1, group2):\n",
    "    diff = group1.mean() - group2.mean()\n",
    "    var1 = group1.var()\n",
    "    var2 = group2.var()\n",
    "    n1, n2 = len(group1), len(group2)\n",
    "    pooled_var = (n1 * var1 + n2 * var2) / (n1 + n2)\n",
    "    d = diff / math.sqrt(pooled_var)\n",
    "    return d"
   ]
  },
  {
   "cell_type": "code",
   "execution_count": 5,
   "metadata": {
    "button": false,
    "collapsed": false,
    "deletable": true,
    "new_sheet": false,
    "run_control": {
     "read_only": false
    }
   },
   "outputs": [],
   "source": [
    "first_wgt = preg[preg['birthord']==1.0]['totalwgt_lb']\n",
    "other_wgt = preg[preg['birthord']!=1.0]['totalwgt_lb']\n",
    "first_wgt = first_wgt[first_wgt.notnull()]\n",
    "other_wgt = other_wgt[other_wgt.notnull()]"
   ]
  },
  {
   "cell_type": "code",
   "execution_count": 6,
   "metadata": {
    "button": false,
    "collapsed": true,
    "deletable": true,
    "new_sheet": false,
    "run_control": {
     "read_only": false
    }
   },
   "outputs": [],
   "source": [
    "first_len = preg[preg['birthord']==1.0]['prglngth']\n",
    "other_len = preg[preg['birthord']!=1.0]['prglngth']\n",
    "first_len  = first_len[first_len.notnull()]\n",
    "other_len = other_len[other_len.notnull()]"
   ]
  },
  {
   "cell_type": "code",
   "execution_count": 7,
   "metadata": {
    "button": false,
    "collapsed": false,
    "deletable": true,
    "new_sheet": false,
    "run_control": {
     "read_only": false
    }
   },
   "outputs": [
    {
     "name": "stdout",
     "output_type": "stream",
     "text": [
      "7.201094430437772\t7.325855614973262\n",
      "1.4205728777207374\t1.3941954762143138\n",
      "\n",
      "38.60095173351461\t25.17124183006536\n",
      "2.7919014146686947\t14.825479314114457\n"
     ]
    }
   ],
   "source": [
    "print(first_wgt.mean(),other_wgt.mean(),sep='\\t')\n",
    "print(first_wgt.std(),other_wgt.std(),sep='\\t')\n",
    "print()\n",
    "print(first_len.mean(),other_len.mean(),sep='\\t')\n",
    "print(first_len.std(),other_len.std(),sep='\\t')"
   ]
  },
  {
   "cell_type": "code",
   "execution_count": 8,
   "metadata": {
    "button": false,
    "collapsed": false,
    "deletable": true,
    "new_sheet": false,
    "run_control": {
     "read_only": false
    },
    "scrolled": true
   },
   "outputs": [
    {
     "name": "stdout",
     "output_type": "stream",
     "text": [
      "Effective weight difference (first minus others): -0.08867236333202932\n",
      "Effective length difference (first minus others): 1.0930083433621403\n"
     ]
    }
   ],
   "source": [
    "print(\"Effective weight difference (first minus others): %s\" % CohenEffectSize(first_wgt,other_wgt),\n",
    "     \"Effective length difference (first minus others): %s\" % CohenEffectSize(first_len,other_len),sep = '\\n')"
   ]
  },
  {
   "cell_type": "markdown",
   "metadata": {
    "button": false,
    "deletable": true,
    "new_sheet": false,
    "run_control": {
     "read_only": false
    }
   },
   "source": [
    "## Results\n",
    "\n",
    "Effective weight difference (first minus others): -0.08867236333202932\n",
    "Effective length difference (first minus others): 1.0930083433621403\n",
    " \n",
    "The first born babies were statistally lighter than the other babies, but only by .09 standard deviations or \n",
    "about a twentieth of a pound difference.\n",
    "\n",
    "The pregnacy duration differs tremendusly where first born babies tend to have longer pregnacies by 1.1 \n",
    "standard deviations or about 14 weeks. \n",
    "\n",
    "Comparing first and \"other\" born deviations independantly, there it can been seen that first born babies have a \n",
    "more predictable pregnacy duration while \"other\" born on average are shorter, but are generally more unpredicable. "
   ]
  },
  {
   "cell_type": "markdown",
   "metadata": {
    "button": false,
    "deletable": true,
    "new_sheet": false,
    "run_control": {
     "read_only": false
    }
   },
   "source": [
    "# Chapter 3 Exercise 1 (actual vs. biased)"
   ]
  },
  {
   "cell_type": "markdown",
   "metadata": {
    "button": false,
    "deletable": true,
    "new_sheet": false,
    "run_control": {
     "read_only": false
    }
   },
   "source": [
    "Something like the class size paradox appears if you survey children and ask how many children are in their family. Families with many children are more likely to appear in your sample, and families with no children have no chance to be in the sample.\n",
    "\n",
    "Use the ```NSFG``` respondent variable ```NUMKDHH``` to construct the actual distribution for the number of children under 18 in the household.\n",
    "\n",
    "Now compute the biased distribution we would see if we surveyed the chidren and asked them how many children under 18 (including themselves) are in their household.\n",
    "Plot the actual and biased distributions, and compute their means. As a starting place, you can use chap03ex.ipynb."
   ]
  },
  {
   "cell_type": "code",
   "execution_count": 4,
   "metadata": {
    "button": false,
    "collapsed": false,
    "deletable": true,
    "new_sheet": false,
    "run_control": {
     "read_only": false
    }
   },
   "outputs": [],
   "source": [
    "import chap01soln\n",
    "resp = chap01soln.ReadFemResp()\n",
    "numkdhh = resp['numkdhh']"
   ]
  },
  {
   "cell_type": "code",
   "execution_count": 80,
   "metadata": {
    "button": false,
    "collapsed": false,
    "deletable": true,
    "new_sheet": false,
    "run_control": {
     "read_only": false
    }
   },
   "outputs": [],
   "source": [
    "def pmf(series):\n",
    "    prob_series = series.value_counts().sort_index() / len(series)\n",
    "    d = {x : freq for x, freq in prob_series.iteritems()}\n",
    "    return d\n",
    "def biaspmf(series):\n",
    "    d = {}\n",
    "    prob_series = (series.value_counts().sort_index() / len(series))\n",
    "    prob_series = prob_series.mul(prob_series.index)\n",
    "    d = {x : freq for x, freq in prob_series.iteritems()}\n",
    "    return d"
   ]
  },
  {
   "cell_type": "code",
   "execution_count": 81,
   "metadata": {
    "button": false,
    "collapsed": true,
    "deletable": true,
    "new_sheet": false,
    "run_control": {
     "read_only": false
    }
   },
   "outputs": [
    {
     "data": {
      "text/plain": [
       "1.0"
      ]
     },
     "execution_count": 81,
     "metadata": {},
     "output_type": "execute_result"
    }
   ],
   "source": [
    "unbias = pmf(numkdhh)\n",
    "bias = biaspmf(numkdhh)\n",
    "unique_values = len(bias)\n",
    "sum(unbias.values())"
   ]
  },
  {
   "cell_type": "code",
   "execution_count": 82,
   "metadata": {
    "button": false,
    "collapsed": false,
    "deletable": true,
    "new_sheet": false,
    "run_control": {
     "read_only": false
    }
   },
   "outputs": [
    {
     "data": {
      "text/plain": [
       "\"\\nplt.hist(bias_numkdhh, bins=6, histtype='step', align='left')\\n\""
      ]
     },
     "execution_count": 82,
     "metadata": {},
     "output_type": "execute_result"
    },
    {
     "data": {
      "image/png": "[encoded data removed]",
      "text/plain": [
       "<matplotlib.figure.Figure at 0x11f6b3278>"
      ]
     },
     "metadata": {},
     "output_type": "display_data"
    }
   ],
   "source": [
    "bias_numkdhh = numkdhh.map(unbias)\n",
    "\n",
    "plt.hist(numkdhh, bins=unique_values, range=[0,unique_values], normed=True, histtype='step', align='left',rwidth=.2)\n",
    "\"\"\"\n",
    "plt.hist(bias_numkdhh, bins=6, histtype='step', align='left')\n",
    "\"\"\""
   ]
  },
  {
   "cell_type": "markdown",
   "metadata": {
    "button": false,
    "deletable": true,
    "new_sheet": false,
    "run_control": {
     "read_only": false
    }
   },
   "source": [
    "By means of built in functions"
   ]
  },
  {
   "cell_type": "code",
   "execution_count": 89,
   "metadata": {
    "button": false,
    "collapsed": false,
    "deletable": true,
    "new_sheet": false,
    "run_control": {
     "read_only": false
    }
   },
   "outputs": [],
   "source": [
    "pmf = thinkstats2.Pmf(numkdhh,label='Unbiased')\n",
    "pmf_biased = probability.BiasPmf(pmf,label='Biased')"
   ]
  },
  {
   "cell_type": "code",
   "execution_count": 90,
   "metadata": {
    "button": false,
    "collapsed": false,
    "deletable": true,
    "new_sheet": false,
    "run_control": {
     "read_only": false
    }
   },
   "outputs": [
    {
     "data": {
      "image/png": "[encoded data removed]",
      "text/plain": [
       "<matplotlib.figure.Figure at 0x11f496dd8>"
      ]
     },
     "metadata": {},
     "output_type": "display_data"
    },
    {
     "data": {
      "text/plain": [
       "<matplotlib.figure.Figure at 0x11f496e10>"
      ]
     },
     "execution_count": 0,
     "metadata": {},
     "output_type": "execute_result"
    }
   ],
   "source": [
    "thinkplot.preplot(2)\n",
    "thinkplot.Pmfs([pmf_biased,pmf])\n",
    "thinkplot.show()"
   ]
  },
  {
   "cell_type": "code",
   "execution_count": 88,
   "metadata": {
    "button": false,
    "collapsed": false,
    "deletable": true,
    "new_sheet": false,
    "run_control": {
     "read_only": false
    }
   },
   "outputs": [
    {
     "name": "stdout",
     "output_type": "stream",
     "text": [
      "The mean of the Unbiased PMF is: 1.02420515504\n",
      "The mean of the Biased PMF is: 2.40367910066\n"
     ]
    }
   ],
   "source": [
    "print (\"The mean of the Unbiased PMF is: %s\" % pmf.Mean(),\"The mean of the Biased PMF is: %s\" % pmf_biased.Mean(),sep='\\n')"
   ]
  },
  {
   "cell_type": "markdown",
   "metadata": {
    "button": false,
    "deletable": true,
    "new_sheet": false,
    "run_control": {
     "read_only": false
    }
   },
   "source": [
    "# Chapter 4 Exercise 2 (random distribution)"
   ]
  },
  {
   "cell_type": "markdown",
   "metadata": {
    "button": false,
    "deletable": true,
    "new_sheet": false,
    "run_control": {
     "read_only": false
    }
   },
   "source": [
    "Exercise 4.2 The numbers generated by random.random are supposed to be uniform between 0 and 1; that is, every value in the range should have the same probability.\n",
    "\n",
    "Generate 1000 numbers from random.random and plot their PMF and CDF. Is the distribution uniform?"
   ]
  },
  {
   "cell_type": "code",
   "execution_count": 46,
   "metadata": {
    "button": false,
    "collapsed": false,
    "deletable": true,
    "new_sheet": false,
    "run_control": {
     "read_only": false
    }
   },
   "outputs": [],
   "source": [
    "rand = [random.random() for i in range(1000)]\n"
   ]
  },
  {
   "cell_type": "code",
   "execution_count": 48,
   "metadata": {
    "button": false,
    "collapsed": false,
    "deletable": true,
    "new_sheet": false,
    "run_control": {
     "read_only": false
    }
   },
   "outputs": [
    {
     "name": "stderr",
     "output_type": "stream",
     "text": [
      "/Users/Seth/Applications/anaconda/lib/python3.5/site-packages/matplotlib/axes/_axes.py:519: UserWarning: No labelled objects found. Use label='...' kwarg on individual plots.\n",
      "  warnings.warn(\"No labelled objects found. \"\n"
     ]
    },
    {
     "data": {
      "image/png": "[encoded data removed]",
      "text/plain": [
       "<matplotlib.figure.Figure at 0x116ea99e8>"
      ]
     },
     "metadata": {},
     "output_type": "display_data"
    },
    {
     "data": {
      "image/png": "[encoded data removed]",
      "text/plain": [
       "<matplotlib.figure.Figure at 0x116fa3860>"
      ]
     },
     "metadata": {},
     "output_type": "display_data"
    },
    {
     "data": {
      "text/plain": [
       "<matplotlib.figure.Figure at 0x11a0c5898>"
      ]
     },
     "metadata": {},
     "output_type": "display_data"
    }
   ],
   "source": [
    "pmf = thinkstats2.Pmf(rand)\n",
    "thinkplot.Pmf(pmf)\n",
    "thinkplot.show()\n",
    "cdf = thinkstats2.Cdf(rand)\n",
    "thinkplot.Cdf(cdf)\n",
    "thinkplot.show()"
   ]
  },
  {
   "cell_type": "markdown",
   "metadata": {
    "button": false,
    "deletable": true,
    "new_sheet": false,
    "run_control": {
     "read_only": false
    }
   },
   "source": [
    "## Think Stats Chapter 5 Exercise 1"
   ]
  },
  {
   "cell_type": "markdown",
   "metadata": {
    "button": false,
    "deletable": true,
    "new_sheet": false,
    "run_control": {
     "read_only": false
    }
   },
   "source": [
    "For the following exercises, you can start with chap05ex.ipynb. My solu- tion is in chap05soln.ipynb.\n",
    "Exercise 5.1 In the BRFSS (see Section 5.4), the distribution of heights is roughly normal with parameters μ = 178 cm and σ = 7.7 cm for men, and μ = 163 cm and σ = 7.3 cm for women.\n",
    "In order to join Blue Man Group, you have to be male between 5’10” and 6’1” (see http://bluemancasting.com). What percentage of the U.S. male population is in this range? Hint: use scipy.stats.norm.cdf."
   ]
  },
  {
   "cell_type": "code",
   "execution_count": 26,
   "metadata": {
    "button": false,
    "collapsed": false,
    "deletable": true,
    "new_sheet": false,
    "run_control": {
     "read_only": false
    }
   },
   "outputs": [],
   "source": [
    "mew = 178\n",
    "sigma = 7.7\n",
    "x1 = (5+10/12)*30.48\n",
    "x2 = (6+1/12)*30.48\n",
    "dist = stats.norm(loc = mew,scale = sigma)"
   ]
  },
  {
   "cell_type": "code",
   "execution_count": 44,
   "metadata": {
    "button": false,
    "collapsed": false,
    "deletable": true,
    "new_sheet": false,
    "run_control": {
     "read_only": false
    },
    "scrolled": true
   },
   "outputs": [
    {
     "name": "stdout",
     "output_type": "stream",
     "text": [
      "34.2746837631 percent of the male population is in the range to be in the blue man group.\n"
     ]
    }
   ],
   "source": [
    "print(\"%s percent of the male population is in the range to be in the blue man group.\" % ((dist.cdf(x2)-dist.cdf(x1))*100))"
   ]
  },
  {
   "cell_type": "markdown",
   "metadata": {
    "button": false,
    "deletable": true,
    "new_sheet": false,
    "run_control": {
     "read_only": false
    }
   },
   "source": [
    "# Bayesian (Elvis Presley twin)\n",
    "\n",
    "Bayes' Theorem is an important tool in understanding what we really know, given evidence of other information we have, in a quantitative way. It helps incorporate conditional probabilities into our conclusions.\n",
    "\n",
    "Elvis Presley had a twin brother who died at birth. What is the probability that Elvis was an identical twin? Assume we observe the following probabilities in the population: fraternal twin is 1/125 and identical twin is 1/300.\n",
    "\n"
   ]
  },
  {
   "cell_type": "markdown",
   "metadata": {
    "button": false,
    "deletable": true,
    "new_sheet": false,
    "run_control": {
     "read_only": false
    }
   },
   "source": [
    "# $$ P(A \\mid B) = \\frac{P(B \\mid A) \\, P(A)}{P(B \\mid A) \\, P(A) + P(B \\mid C) \\, P(C)} $$\n",
    "\n",
    "# $$P(I \\mid T) = \\frac{P(T \\mid I) \\, P(I)}{P(T \\mid I) \\, P(I) + P(T \\mid F) \\, P(F)} $$\n",
    "\n",
    "P(A3 | B) = P(B | A3) P(A3)/P(B)\n",
    "\n",
    "$P(T)$ and $P(I)$ and $P(F)$ are the probabilities of observing TWIN, IDENTICAL, and FRATERNAL without regard to each other.\n",
    "\n",
    "$P(T | I)$, a conditional probability, is the probability of observing event TWIN given that IDENTICAL is true.\n",
    "\n",
    "$P(I | T)$ is the probability of observing event IDENTICAL given that TWIN is true.\n",
    "\n",
    "## Since,\n",
    "\n",
    "$P(T) = P(I) + P(F)$ assuming FRATERNAL and IDENTICAL twins are mutually exclusive and are the only twin types\n",
    "\n",
    "$P(T \\mid I) = P(T \\mid F) = 1$\n",
    "\n",
    "$P(F \\mid T) = 1 - P(I \\mid T)$\n"
   ]
  },
  {
   "cell_type": "code",
   "execution_count": 285,
   "metadata": {
    "button": false,
    "collapsed": false,
    "deletable": true,
    "new_sheet": false,
    "run_control": {
     "read_only": false
    },
    "scrolled": true
   },
   "outputs": [
    {
     "data": {
      "text/plain": [
       "True"
      ]
     },
     "execution_count": 285,
     "metadata": {},
     "output_type": "execute_result"
    }
   ],
   "source": [
    "prob_ftwin = 1/125\n",
    "prob_itwin = 1/300\n",
    "prob_twin = prob_ftwin + prob_itwin"
   ]
  },
  {
   "cell_type": "markdown",
   "metadata": {},
   "source": [
    "## Thus,\n",
    "\n",
    "### $P(I \\mid T) = \\frac{ \\, P(I)}{ \\, P(I) +  \\, P(F)} $\n",
    "\n",
    "### $or$\n",
    "\n",
    "### $P(I \\mid T) = \\frac{P(I)}  {P(T)}$\n",
    "\n",
    "Probability of Evis' twin is identical is $29.4\\%$"
   ]
  },
  {
   "cell_type": "code",
   "execution_count": 351,
   "metadata": {
    "collapsed": false
   },
   "outputs": [
    {
     "data": {
      "text/plain": [
       "numpy.ndarray"
      ]
     },
     "execution_count": 351,
     "metadata": {},
     "output_type": "execute_result"
    }
   ],
   "source": [
    "nsim = 10000\n",
    "is_ftwin_array = stats.binom.random_state.binomial(1,prob_ftwin,size=nsim)\n",
    "is_itwin_array = stats.binom.random_state.binomial(1,prob_itwin,size=nsim)\n",
    "is_nottwin = 1-(prob_ftwin+prob_itwin)\n",
    "twin_array = stats.binom.random_state.choice([0,'f','i'],nsim,p=[is_nottwin,prob_ftwin,prob_itwin])\n",
    "type(twin_array)\n",
    "\n",
    "np.ndarray"
   ]
  },
  {
   "cell_type": "markdown",
   "metadata": {
    "button": false,
    "deletable": true,
    "new_sheet": false,
    "run_control": {
     "read_only": false
    }
   },
   "source": [
    "# Bayesian & Frequentist Comparison\n",
    "\n",
    "How do frequentist and Bayesian statistics compare?"
   ]
  },
  {
   "cell_type": "markdown",
   "metadata": {
    "button": false,
    "deletable": true,
    "new_sheet": false,
    "run_control": {
     "read_only": false
    }
   },
   "source": [
    "# Optional Exercises\n",
    "\n",
    "The following exercises are optional, but we highly encourage you to complete them if you have the time.\n",
    "\n",
    "# Chapter 7 Exercise 1 (correlation of weight vs. age)\n",
    "\n",
    "In this exercise, you will compute the effect size of correlation. Correlation measures the relationship of two variables, and data science is about exploring relationships in data.\n"
   ]
  },
  {
   "cell_type": "markdown",
   "metadata": {
    "button": false,
    "deletable": true,
    "new_sheet": false,
    "run_control": {
     "read_only": false
    }
   },
   "source": [
    "# Chapter 8 Exercise 2 (sampling distribution)\n",
    "\n",
    "In the theoretical world, all data related to an experiment or a scientific problem would be available. In the real world, some subset of that data is available. This exercise asks you to take samples from an exponential distribution and examine how the standard error and confidence intervals vary with the sample size."
   ]
  },
  {
   "cell_type": "markdown",
   "metadata": {
    "button": false,
    "deletable": true,
    "new_sheet": false,
    "run_control": {
     "read_only": false
    }
   },
   "source": [
    "# Chapter 6 Exercise 1 (skewness of household income)"
   ]
  },
  {
   "cell_type": "markdown",
   "metadata": {
    "button": false,
    "deletable": true,
    "new_sheet": false,
    "run_control": {
     "read_only": false
    }
   },
   "source": [
    "# Chapter 8 Exercise 3 (scoring)"
   ]
  },
  {
   "cell_type": "markdown",
   "metadata": {
    "button": false,
    "deletable": true,
    "new_sheet": false,
    "run_control": {
     "read_only": false
    }
   },
   "source": [
    "# Chapter 9 Exercise 2 (resampling)"
   ]
  },
  {
   "cell_type": "code",
   "execution_count": null,
   "metadata": {
    "button": false,
    "collapsed": true,
    "deletable": true,
    "new_sheet": false,
    "run_control": {
     "read_only": false
    }
   },
   "outputs": [],
   "source": []
  }
 ],
 "metadata": {
  "kernelspec": {
   "display_name": "Python 3",
   "language": "python",
   "name": "python3"
  },
  "language_info": {
   "codemirror_mode": {
    "name": "ipython",
    "version": 3
   },
   "file_extension": ".py",
   "mimetype": "text/x-python",
   "name": "python",
   "nbconvert_exporter": "python",
   "pygments_lexer": "ipython3",
   "version": "3.5.1"
  }
 },
 "nbformat": 4,
 "nbformat_minor": 0
}
