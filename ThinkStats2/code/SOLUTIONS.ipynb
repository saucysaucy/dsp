{
 "cells": [
  {
   "cell_type": "markdown",
   "metadata": {
    "collapsed": true
   },
   "source": [
    "# Chapter 2 Exercise 4 (Cohen's D)"
   ]
  },
  {
   "cell_type": "code",
   "execution_count": 31,
   "metadata": {
    "collapsed": false
   },
   "outputs": [],
   "source": [
    "import math\n",
    "import numpy\n",
    "import pandas\n",
    "import matplotlib\n",
    "import matplotlib.pyplot as plt\n",
    "import thinkstats2\n",
    "import thinkplot\n",
    "import nsfg\n",
    "import chap01soln\n",
    "preg = nsfg.ReadFemPreg()"
   ]
  },
  {
   "cell_type": "markdown",
   "metadata": {},
   "source": [
    "Exercise 2.4 Using the variable totalwgt_lb, investigate whether first babies are lighter or heavier than others. Compute Cohen’s d to quantify the difference between the groups. How does it compare to the difference in pregnancy length?"
   ]
  },
  {
   "cell_type": "code",
   "execution_count": 32,
   "metadata": {
    "collapsed": true
   },
   "outputs": [],
   "source": [
    "def CohenEffectSize(group1, group2):\n",
    "    diff = group1.mean() - group2.mean()\n",
    "    var1 = group1.var()\n",
    "    var2 = group2.var()\n",
    "    n1, n2 = len(group1), len(group2)\n",
    "    pooled_var = (n1 * var1 + n2 * var2) / (n1 + n2)\n",
    "    d = diff / math.sqrt(pooled_var)\n",
    "    return d"
   ]
  },
  {
   "cell_type": "code",
   "execution_count": 42,
   "metadata": {
    "collapsed": false
   },
   "outputs": [
    {
     "data": {
      "text/plain": [
       "29.531229309203265"
      ]
     },
     "execution_count": 42,
     "metadata": {},
     "output_type": "execute_result"
    }
   ],
   "source": [
    "preg['prglngth']"
   ]
  },
  {
   "cell_type": "code",
   "execution_count": 33,
   "metadata": {
    "collapsed": false
   },
   "outputs": [],
   "source": [
    "first_wgt = preg[preg['birthord']==1.0]['totalwgt_lb']\n",
    "other_wgt = preg[preg['birthord']!=1.0]['totalwgt_lb']\n",
    "first_wgt = first_wgt[first_wgt.notnull()]\n",
    "other_wgt = other_wgt[other_wgt.notnull()]"
   ]
  },
  {
   "cell_type": "code",
   "execution_count": 34,
   "metadata": {
    "collapsed": true
   },
   "outputs": [],
   "source": [
    "first_len = preg[preg['birthord']==1.0]['prglngth']\n",
    "other_len = preg[preg['birthord']!=1.0]['prglngth']\n",
    "first_len  = first_len[first_len.notnull()]\n",
    "other_len = other_len[other_len.notnull()]"
   ]
  },
  {
   "cell_type": "code",
   "execution_count": 44,
   "metadata": {
    "collapsed": false
   },
   "outputs": [
    {
     "name": "stdout",
     "output_type": "stream",
     "text": [
      "7.201094430437772\t7.325855614973262\n",
      "1.4205728777207374\t1.3941954762143138\n",
      "\n",
      "38.60095173351461\t25.17124183006536\n",
      "2.7919014146686947\t14.825479314114457\n"
     ]
    }
   ],
   "source": [
    "print(first_wgt.mean(),other_wgt.mean(),sep='\\t')\n",
    "print(first_wgt.std(),other_wgt.std(),sep='\\t')\n",
    "print()\n",
    "print(first_len.mean(),other_len.mean(),sep='\\t')\n",
    "print(first_len.std(),other_len.std(),sep='\\t')"
   ]
  },
  {
   "cell_type": "code",
   "execution_count": 21,
   "metadata": {
    "collapsed": false,
    "scrolled": true
   },
   "outputs": [
    {
     "name": "stdout",
     "output_type": "stream",
     "text": [
      "Effective weight difference (first minus others): -0.08867236333202932\n",
      "Effective length difference (first minus others): 1.0930083433621403\n"
     ]
    }
   ],
   "source": [
    "print(\"Effective weight difference (first minus others): %s\" % CohenEffectSize(first_wgt,other_wgt),\n",
    "     \"Effective length difference (first minus others): %s\" % CohenEffectSize(first_len,other_len),sep = '\\n')"
   ]
  },
  {
   "cell_type": "markdown",
   "metadata": {},
   "source": [
    "## Results\n",
    "\n",
    "Effective weight difference (first minus others): -0.08867236333202932\n",
    "Effective length difference (first minus others): 1.0930083433621403\n",
    " \n",
    "The first born babies were statistally lighter than the other babies, but only by .09 standard deviations or about a twentieth of a pound difference.\n",
    "\n",
    "The pregnacy duration differs tremendusly where first born babies tend to have longer pregnacies by 1.1 standard deviations or about 14 weeks. \n",
    "\n",
    "Comparing first and \"other\" born deviations independantly, there it can been seen that first born babies have a more predictable pregnacy duration while \"other\" born on average are shorter, but are generally more unpredicable. "
   ]
  },
  {
   "cell_type": "markdown",
   "metadata": {},
   "source": [
    "# Chapter 3 Exercise 1 (actual vs. biased)"
   ]
  },
  {
   "cell_type": "markdown",
   "metadata": {},
   "source": [
    "Something like the class size paradox appears if you survey children and ask how many children are in their family. Families with many children are more likely to appear in your sample, and families with no children have no chance to be in the sample.\n",
    "\n",
    "Use the ```NSFG``` respondent variable ```NUMKDHH``` to construct the actual distribution for the number of children under 18 in the household.\n",
    "\n",
    "Now compute the biased distribution we would see if we surveyed the chidren and asked them how many children under 18 (including themselves) are in their household.\n",
    "Plot the actual and biased distributions, and compute their means. As a starting place, you can use chap03ex.ipynb."
   ]
  },
  {
   "cell_type": "code",
   "execution_count": 71,
   "metadata": {
    "collapsed": false
   },
   "outputs": [],
   "source": [
    "import chap01soln\n",
    "import thinkstats2\n",
    "import thinkplot\n",
    "import probability\n",
    "%matplotlib inline\n",
    "resp = chap01soln.ReadFemResp()"
   ]
  },
  {
   "cell_type": "code",
   "execution_count": 110,
   "metadata": {
    "collapsed": false
   },
   "outputs": [],
   "source": [
    "pmf = thinkstats2.Pmf(resp.numkdhh,label='Unbiased')"
   ]
  },
  {
   "cell_type": "code",
   "execution_count": 99,
   "metadata": {
    "collapsed": false
   },
   "outputs": [
    {
     "data": {
      "image/png": "[encoded data removed]",
      "text/plain": [
       "<matplotlib.figure.Figure at 0x109530710>"
      ]
     },
     "metadata": {},
     "output_type": "display_data"
    }
   ],
   "source": [
    "thinkplot.Pmf(pmf)\n",
    "plt.show()"
   ]
  },
  {
   "cell_type": "code",
   "execution_count": 100,
   "metadata": {
    "collapsed": false
   },
   "outputs": [],
   "source": [
    "biased = probability.BiasPmf(pmf,label='Biased')"
   ]
  },
  {
   "cell_type": "code",
   "execution_count": 101,
   "metadata": {
    "collapsed": false
   },
   "outputs": [
    {
     "data": {
      "image/png": "[encoded data removed]",
      "text/plain": [
       "<matplotlib.figure.Figure at 0x1222b2128>"
      ]
     },
     "metadata": {},
     "output_type": "display_data"
    },
    {
     "data": {
      "text/plain": [
       "<matplotlib.figure.Figure at 0x11a0991d0>"
      ]
     },
     "metadata": {},
     "output_type": "display_data"
    }
   ],
   "source": [
    "thinkplot.preplot(2)\n",
    "thinkplot.Pmfs([biased,pmf])\n",
    "thinkplot.show()"
   ]
  },
  {
   "cell_type": "code",
   "execution_count": 111,
   "metadata": {
    "collapsed": false
   },
   "outputs": [
    {
     "name": "stdout",
     "output_type": "stream",
     "text": [
      "The mean of the Unbiased PMF is: 1.02420515504\n",
      "The mean of the Biased PMF is: 2.40367910066\n"
     ]
    }
   ],
   "source": [
    "print (\"The mean of the Unbiased PMF is: %s\" % pmf.Mean(),\"The mean of the Biased PMF is: %s\" % biased.Mean(),sep='\\n')"
   ]
  },
  {
   "cell_type": "markdown",
   "metadata": {},
   "source": [
    "# Chapter 4 Exercise 2 (random distribution)"
   ]
  },
  {
   "cell_type": "markdown",
   "metadata": {},
   "source": [
    "Exercise 4.2 The numbers generated by random.random are supposed to be uniform between 0 and 1; that is, every value in the range should have the same probability.\n",
    "\n",
    "Generate 1000 numbers from random.random and plot their PMF and CDF. Is the distribution uniform?"
   ]
  },
  {
   "cell_type": "code",
   "execution_count": 5,
   "metadata": {
    "collapsed": true
   },
   "outputs": [],
   "source": [
    "import random\n",
    "import numpy as np\n",
    "import math\n",
    "import statistics\n",
    "import statsmodels"
   ]
  },
  {
   "cell_type": "code",
   "execution_count": null,
   "metadata": {
    "collapsed": true
   },
   "outputs": [],
   "source": [
    "statsmodels."
   ]
  }
 ],
 "metadata": {
  "kernelspec": {
   "display_name": "Python 3",
   "language": "python",
   "name": "python3"
  },
  "language_info": {
   "codemirror_mode": {
    "name": "ipython",
    "version": 3
   },
   "file_extension": ".py",
   "mimetype": "text/x-python",
   "name": "python",
   "nbconvert_exporter": "python",
   "pygments_lexer": "ipython3",
   "version": "3.5.1"
  }
 },
 "nbformat": 4,
 "nbformat_minor": 0
}
